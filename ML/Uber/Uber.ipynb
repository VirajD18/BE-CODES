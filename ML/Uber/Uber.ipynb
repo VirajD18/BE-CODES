import numpy as np
import pandas as pd
import matplotlib.pyplot as plt
import seaborn as sb
from sklearn.linear_model import LinearRegression
from sklearn.model_selection import train_test_split
from sklearn.metrics import r2_score , mean_squared_error
from math import sqrt

data = pd.read_csv('uber.csv')

data.head()

data.describe()

data.info()

data.shape

data.isnull().sum()

data.fillna(inplace = True ,method = 'bfill')

data.isnull().sum()

x = data.drop(['Unnamed: 0','key','fare_amount','pickup_datetime','passenger_count'],axis = 1)

x.head()

y = data['fare_amount']
y.head()

x_train , x_test , y_train , y_test = train_test_split(x,y,test_size=0.2,random_state=1)
model = LinearRegression()
model.fit(x_train , y_train)

y_pred = model.predict(x_test)
print(y_pred)

error_rate_test = r2_score(y_test,y_pred)
error_rate_test

print("RMSE Error Model is :",np.sqrt(mean_squared_error(y_test,y_pred)))

from sklearn.ensemble import*
rfm = RandomForestRegressor(n_estimators = 100 ,random_state = 101)
rfm.fit(x_train,y_train)
rfm_pred = rfm.predict(x_test)
rfm_RMSE = np.sqrt(mean_squared_error(rfm_pred,y_test))

print(rfm_RMSE)

corr = data.corr()
corr

